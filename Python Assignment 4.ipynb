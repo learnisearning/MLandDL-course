{
 "cells": [
  {
   "cell_type": "raw",
   "metadata": {},
   "source": [
    "1.1 Write a Python Program(with class concepts) to find the area of the triangle using the below\n",
    "formula.\n",
    "area = (s*(s-a)*(s-b)*(s-c)) ** 0.5\n",
    "Function to take the length of the sides of triangle from user should be defined in the parent\n",
    "class and function to calculate the area should be defined in subclass."
   ]
  },
  {
   "cell_type": "code",
   "execution_count": 1,
   "metadata": {},
   "outputs": [
    {
     "name": "stdout",
     "output_type": "stream",
     "text": [
      "3\n",
      "4\n",
      "5\n",
      "area : 6.0\n"
     ]
    }
   ],
   "source": [
    "a=int(input())\n",
    "b=int(input())\n",
    "c=int(input())\n",
    "\n",
    "class poly:\n",
    "    def __init__(self, a, b, c):\n",
    "        self.a = float(a)\n",
    "        self.b = float(b)\n",
    "        self.c = float(c)\n",
    "        self.area = 0\n",
    "\n",
    "class triangle(poly):\n",
    "    def __init__(self, a, b, c):\n",
    "        poly.__init__(self, a, b, c)\n",
    "\n",
    "    def calculate_area(self):\n",
    "        s = (self.a + self.b + self.c) / 2\n",
    "        self.area = float((s * (s - self.a) * (s - self.b) * (s - self.c))) ** 0.5\n",
    "\n",
    "    def get_area(self):\n",
    "        return self.area     \n",
    "\n",
    "t = triangle(a, b, c)\n",
    "t.calculate_area()\n",
    "print(\"area : {}\".format(t.get_area()))"
   ]
  },
  {
   "cell_type": "raw",
   "metadata": {},
   "source": [
    "1.2 Write a function filter_long_words() that takes a list of words and an integer n and returns\n",
    "the list of words that are longer than n."
   ]
  },
  {
   "cell_type": "code",
   "execution_count": 10,
   "metadata": {},
   "outputs": [
    {
     "name": "stdout",
     "output_type": "stream",
     "text": [
      "5\n",
      "['shekhar', 'sourabh', 'sujeet', 'deepak', 'snehashish', 'manish', 'shailesh', 'sudhanshu', 'arajeet', 'sandeep']\n"
     ]
    }
   ],
   "source": [
    "list_1=['raj','shekhar','sourabh','sujeet','akash','deepak','sunny','snehashish','manish','shailesh','rahul','sudhanshu','arajeet','sandeep']\n",
    "a=int(input())\n",
    "newlist=[]\n",
    "def filter_long_words(a,list_1):\n",
    "    for i in list_1:\n",
    "        if len(i)>a:\n",
    "            newlist.append(i)\n",
    "            \n",
    "            \n",
    "filter_long_words(a,list_1)\n",
    "print(newlist)"
   ]
  },
  {
   "cell_type": "raw",
   "metadata": {},
   "source": [
    "2.1 Write a Python program using function concept that maps list of words into a list of integers\n",
    "representing the lengths of the corresponding words.\n",
    "Hint: If a list [ ab,cde,erty] is passed on to the python function output should come as [2,3,4]\n",
    "Here 2,3 and 4 are the lengths of the words in the list."
   ]
  },
  {
   "cell_type": "code",
   "execution_count": 27,
   "metadata": {},
   "outputs": [
    {
     "name": "stdout",
     "output_type": "stream",
     "text": [
      "word lengths in array => [2, 3, 4]\n"
     ]
    }
   ],
   "source": [
    "wordlist = [\"ab\", \"cde\", \"erty\"]\n",
    "\n",
    "newlist=[]\n",
    "def wordlength(wordlist):\n",
    "        newlist=[len(i) for i in wordlist]\n",
    "        return  newlist\n",
    "\n",
    "print (\"word lengths in array => \" + str(wordlength(wordlist)))\n"
   ]
  },
  {
   "cell_type": "raw",
   "metadata": {},
   "source": [
    "2.2 Write a Python function which takes a character (i.e. a string of length 1) and returns True if\n",
    "it is a vowel, False otherwise."
   ]
  },
  {
   "cell_type": "code",
   "execution_count": 28,
   "metadata": {},
   "outputs": [
    {
     "name": "stdout",
     "output_type": "stream",
     "text": [
      "Enter character: a\n",
      "a is a vowel.\n"
     ]
    }
   ],
   "source": [
    "def vowel_check(char):\n",
    "    if(char == 'a' or char == 'e' or char == 'i' or char == 'o' or char == 'u'):\n",
    "        return True\n",
    "    else:\n",
    "        return False\n",
    "\n",
    "char = input(\"Enter character: \");\n",
    "\n",
    "\n",
    "if (char.isalpha() == False):\n",
    "    exit();\n",
    "\n",
    "\n",
    "if (vowel_check(char)):\n",
    "    print(char, \"is a vowel.\");\n",
    "else:\n",
    "    print(char, \"is not a vowel.\"); "
   ]
  },
  {
   "cell_type": "code",
   "execution_count": null,
   "metadata": {},
   "outputs": [],
   "source": []
  }
 ],
 "metadata": {
  "kernelspec": {
   "display_name": "Python 3",
   "language": "python",
   "name": "python3"
  },
  "language_info": {
   "codemirror_mode": {
    "name": "ipython",
    "version": 3
   },
   "file_extension": ".py",
   "mimetype": "text/x-python",
   "name": "python",
   "nbconvert_exporter": "python",
   "pygments_lexer": "ipython3",
   "version": "3.8.3"
  }
 },
 "nbformat": 4,
 "nbformat_minor": 4
}
